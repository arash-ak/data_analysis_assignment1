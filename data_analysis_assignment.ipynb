{
 "metadata": {
  "language_info": {
   "codemirror_mode": {
    "name": "ipython",
    "version": 3
   },
   "file_extension": ".py",
   "mimetype": "text/x-python",
   "name": "python",
   "nbconvert_exporter": "python",
   "pygments_lexer": "ipython3",
   "version": "3.8.5-final"
  },
  "orig_nbformat": 2,
  "kernelspec": {
   "name": "python3",
   "display_name": "Python 3"
  }
 },
 "nbformat": 4,
 "nbformat_minor": 2,
 "cells": [
  {
   "cell_type": "code",
   "execution_count": 13,
   "metadata": {},
   "outputs": [
    {
     "output_type": "stream",
     "name": "stderr",
     "text": [
      "2020-12-05 00:32:20,707\tINFO services.py:1090 -- View the Ray dashboard at \u001b[1m\u001b[32mhttp://127.0.0.1:8265\u001b[39m\u001b[22m\n"
     ]
    }
   ],
   "source": [
    "import ray\n",
    "ray.shutdown()\n",
    "ray.init()\n",
    "import modin.pandas as pd\n",
    "import geopandas as gpd"
   ]
  },
  {
   "cell_type": "code",
   "execution_count": 14,
   "metadata": {},
   "outputs": [
    {
     "output_type": "execute_result",
     "data": {
      "text/plain": [
       "          timestamp       spora-id       latitude      longitude  \\\n",
       "count  1.125330e+05  112533.000000  112533.000000  112533.000000   \n",
       "mean   1.562232e+09       2.742653      15.100778       6.257448   \n",
       "std    3.823990e+05       0.437174      26.093137      10.812454   \n",
       "min    1.561982e+09       2.000000       0.000000       0.000000   \n",
       "25%    1.562014e+09       2.000000       0.000000       0.000000   \n",
       "50%    1.562041e+09       3.000000       0.000000       0.000000   \n",
       "75%    1.562069e+09       3.000000      60.165263      24.921905   \n",
       "max    1.563780e+09       3.000000      60.216977      24.972197   \n",
       "\n",
       "                 NO           NO2            O3            CO  \\\n",
       "count  94343.000000  94342.000000  94019.000000  93569.000000   \n",
       "mean       6.644363     -2.430716     -0.077893      6.391370   \n",
       "std        1.999875      0.790122      0.174195     26.045096   \n",
       "min        0.964880     -3.004522     -1.228286      0.344952   \n",
       "25%        6.444264     -2.772336     -0.218925      0.985722   \n",
       "50%        6.668434     -2.702772     -0.063004      1.224733   \n",
       "75%        7.392274     -2.593394      0.074605      1.571157   \n",
       "max       48.956379     -0.015496      0.723695    233.218658   \n",
       "\n",
       "       BME680_pressure  BME680_humidity  BME680_temperature  comment  \n",
       "count    112533.000000    112533.000000       112533.000000      0.0  \n",
       "mean      99881.409942        23.418059           40.048686      NaN  \n",
       "std         490.264633         6.702482            5.303181      NaN  \n",
       "min       99355.000000        17.343000           22.080000      NaN  \n",
       "25%       99599.000000        19.882000           35.510000      NaN  \n",
       "50%       99645.000000        20.246000           42.450000      NaN  \n",
       "75%       99755.000000        27.144000           42.770000      NaN  \n",
       "max      101747.000000        55.117000           46.590000      NaN  "
      ],
      "text/html": "<div>\n<style scoped>\n    .dataframe tbody tr th:only-of-type {\n        vertical-align: middle;\n    }\n\n    .dataframe tbody tr th {\n        vertical-align: top;\n    }\n\n    .dataframe thead th {\n        text-align: right;\n    }\n</style>\n<table border=\"1\" class=\"dataframe\">\n  <thead>\n    <tr style=\"text-align: right;\">\n      <th></th>\n      <th>timestamp</th>\n      <th>spora-id</th>\n      <th>latitude</th>\n      <th>longitude</th>\n      <th>NO</th>\n      <th>NO2</th>\n      <th>O3</th>\n      <th>CO</th>\n      <th>BME680_pressure</th>\n      <th>BME680_humidity</th>\n      <th>BME680_temperature</th>\n      <th>comment</th>\n    </tr>\n  </thead>\n  <tbody>\n    <tr>\n      <th>count</th>\n      <td>1.125330e+05</td>\n      <td>112533.000000</td>\n      <td>112533.000000</td>\n      <td>112533.000000</td>\n      <td>94343.000000</td>\n      <td>94342.000000</td>\n      <td>94019.000000</td>\n      <td>93569.000000</td>\n      <td>112533.000000</td>\n      <td>112533.000000</td>\n      <td>112533.000000</td>\n      <td>0.0</td>\n    </tr>\n    <tr>\n      <th>mean</th>\n      <td>1.562232e+09</td>\n      <td>2.742653</td>\n      <td>15.100778</td>\n      <td>6.257448</td>\n      <td>6.644363</td>\n      <td>-2.430716</td>\n      <td>-0.077893</td>\n      <td>6.391370</td>\n      <td>99881.409942</td>\n      <td>23.418059</td>\n      <td>40.048686</td>\n      <td>NaN</td>\n    </tr>\n    <tr>\n      <th>std</th>\n      <td>3.823990e+05</td>\n      <td>0.437174</td>\n      <td>26.093137</td>\n      <td>10.812454</td>\n      <td>1.999875</td>\n      <td>0.790122</td>\n      <td>0.174195</td>\n      <td>26.045096</td>\n      <td>490.264633</td>\n      <td>6.702482</td>\n      <td>5.303181</td>\n      <td>NaN</td>\n    </tr>\n    <tr>\n      <th>min</th>\n      <td>1.561982e+09</td>\n      <td>2.000000</td>\n      <td>0.000000</td>\n      <td>0.000000</td>\n      <td>0.964880</td>\n      <td>-3.004522</td>\n      <td>-1.228286</td>\n      <td>0.344952</td>\n      <td>99355.000000</td>\n      <td>17.343000</td>\n      <td>22.080000</td>\n      <td>NaN</td>\n    </tr>\n    <tr>\n      <th>25%</th>\n      <td>1.562014e+09</td>\n      <td>2.000000</td>\n      <td>0.000000</td>\n      <td>0.000000</td>\n      <td>6.444264</td>\n      <td>-2.772336</td>\n      <td>-0.218925</td>\n      <td>0.985722</td>\n      <td>99599.000000</td>\n      <td>19.882000</td>\n      <td>35.510000</td>\n      <td>NaN</td>\n    </tr>\n    <tr>\n      <th>50%</th>\n      <td>1.562041e+09</td>\n      <td>3.000000</td>\n      <td>0.000000</td>\n      <td>0.000000</td>\n      <td>6.668434</td>\n      <td>-2.702772</td>\n      <td>-0.063004</td>\n      <td>1.224733</td>\n      <td>99645.000000</td>\n      <td>20.246000</td>\n      <td>42.450000</td>\n      <td>NaN</td>\n    </tr>\n    <tr>\n      <th>75%</th>\n      <td>1.562069e+09</td>\n      <td>3.000000</td>\n      <td>60.165263</td>\n      <td>24.921905</td>\n      <td>7.392274</td>\n      <td>-2.593394</td>\n      <td>0.074605</td>\n      <td>1.571157</td>\n      <td>99755.000000</td>\n      <td>27.144000</td>\n      <td>42.770000</td>\n      <td>NaN</td>\n    </tr>\n    <tr>\n      <th>max</th>\n      <td>1.563780e+09</td>\n      <td>3.000000</td>\n      <td>60.216977</td>\n      <td>24.972197</td>\n      <td>48.956379</td>\n      <td>-0.015496</td>\n      <td>0.723695</td>\n      <td>233.218658</td>\n      <td>101747.000000</td>\n      <td>55.117000</td>\n      <td>46.590000</td>\n      <td>NaN</td>\n    </tr>\n  </tbody>\n</table>\n</div>"
     },
     "metadata": {},
     "execution_count": 14
    }
   ],
   "source": [
    "sporametri_data = pd.read_csv('sporametri-movingsites-data0719.csv')\n",
    "#sporametri_data = sporametri_data[0:10000]\n",
    "sporametri_data.describe()"
   ]
  },
  {
   "cell_type": "code",
   "execution_count": 15,
   "metadata": {},
   "outputs": [
    {
     "output_type": "execute_result",
     "data": {
      "text/plain": [
       "timestamp                  0\n",
       "spora-id                   0\n",
       "latitude                   0\n",
       "longitude                  0\n",
       "NO                     18190\n",
       "NO2                    18191\n",
       "O3                     18514\n",
       "CO                     18964\n",
       "BME680_pressure            0\n",
       "BME680_humidity            0\n",
       "BME680_temperature         0\n",
       "comment               112533\n",
       "dtype: int64"
      ]
     },
     "metadata": {},
     "execution_count": 15
    }
   ],
   "source": [
    "sporametri_data.isnull().sum()"
   ]
  },
  {
   "cell_type": "code",
   "execution_count": 10,
   "metadata": {},
   "outputs": [],
   "source": [
    "sporametri_data_with_O3 = ~sporametri_data['O3'].isnull()\n",
    "sporametri_data_O3_with_coordinate = sporametri_data[['latitude','longitude']][sporametri_data_with_O3]\n"
   ]
  },
  {
   "cell_type": "code",
   "execution_count": null,
   "metadata": {},
   "outputs": [],
   "source": []
  }
 ]
}